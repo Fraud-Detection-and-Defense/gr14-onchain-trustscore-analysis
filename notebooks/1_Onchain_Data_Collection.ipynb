{
 "cells": [
  {
   "cell_type": "markdown",
   "id": "60d75317",
   "metadata": {},
   "source": [
    "## Gitcoin Grants #14 Trust & DeSoc Scores (🤖,💚)\n",
    "\n",
    "# Part 1: Data Gathering\n",
    "\n",
    "This notebook gathers data from Gitcoin Grants and on-chain subgraphs for selected wallets. \n",
    "\n",
    "Current sources include: \n",
    "- POAPs (xDAI only) // [api](https://api.thegraph.com/subgraphs/name/poap-xyz/poap-xdai)\n",
    "- Snapshot votes (all EVM chains) // [api](https://hub.snapshot.org/graphql/)\n",
    "- NFT ownership (ETH Mainnet only) // [api](https://api.zora.co/graphql)\n",
    "- Lens protocol // [api](https://api.lens.dev/)\n",
    "- Proof of Humanity // [api](https://api.poh.dev)"
   ]
  },
  {
   "cell_type": "markdown",
   "id": "fa52af2a",
   "metadata": {},
   "source": [
    "### Dependencies"
   ]
  },
  {
   "cell_type": "code",
   "execution_count": 1,
   "id": "424af813",
   "metadata": {},
   "outputs": [],
   "source": [
    "import json\n",
    "import pandas as pd\n",
    "\n",
    "from settings import PATHS\n",
    "from utils.ingest_data import load_transactions\n",
    "from utils.gqltools import execute_subgraph_query\n",
    "from utils.subgraphs import query_lens, query_poaps_xdai, query_snapshot\n",
    "from utils.pypoh import get_raw_set_of_addresses\n",
    "from utils.zora import query_zora"
   ]
  },
  {
   "cell_type": "markdown",
   "id": "c2676948",
   "metadata": {},
   "source": [
    "# 1/ Load GR 14 data and get wallet addresses\n",
    "\n",
    "This requires access to a private dataset from Gitcoin showing all contributions, squelching & trust bonuses"
   ]
  },
  {
   "cell_type": "code",
   "execution_count": 2,
   "id": "7e936896",
   "metadata": {},
   "outputs": [
    {
     "name": "stdout",
     "output_type": "stream",
     "text": [
      "Imported 600555 transactions from GR14\n"
     ]
    },
    {
     "data": {
      "text/html": [
       "<div>\n",
       "<style scoped>\n",
       "    .dataframe tbody tr th:only-of-type {\n",
       "        vertical-align: middle;\n",
       "    }\n",
       "\n",
       "    .dataframe tbody tr th {\n",
       "        vertical-align: top;\n",
       "    }\n",
       "\n",
       "    .dataframe thead th {\n",
       "        text-align: right;\n",
       "    }\n",
       "</style>\n",
       "<table border=\"1\" class=\"dataframe\">\n",
       "  <thead>\n",
       "    <tr style=\"text-align: right;\">\n",
       "      <th></th>\n",
       "      <th>contribution_id</th>\n",
       "      <th>checkout_type</th>\n",
       "      <th>grant_id</th>\n",
       "      <th>is_squelched</th>\n",
       "      <th>trust_bonus</th>\n",
       "      <th>raw_amount_in_token</th>\n",
       "      <th>amount_in_token</th>\n",
       "      <th>amount_to_gitcoin_in_token</th>\n",
       "      <th>token</th>\n",
       "      <th>amount_in_usdt</th>\n",
       "      <th>created_on</th>\n",
       "      <th>modified_on</th>\n",
       "      <th>address</th>\n",
       "    </tr>\n",
       "  </thead>\n",
       "  <tbody>\n",
       "    <tr>\n",
       "      <th>0</th>\n",
       "      <td>2794110</td>\n",
       "      <td>eth_std</td>\n",
       "      <td>5688</td>\n",
       "      <td>True</td>\n",
       "      <td>0.5</td>\n",
       "      <td>0.0047</td>\n",
       "      <td>0.0047</td>\n",
       "      <td>0.0</td>\n",
       "      <td>ETH</td>\n",
       "      <td>5.14943</td>\n",
       "      <td>2022-06-23 23:59:59.976253+00:00</td>\n",
       "      <td>2022-06-24 00:13:33.028389+00:00</td>\n",
       "      <td>0xf6027a84d603b136b5b1ce6896000dca1b35d113</td>\n",
       "    </tr>\n",
       "  </tbody>\n",
       "</table>\n",
       "</div>"
      ],
      "text/plain": [
       "   contribution_id checkout_type  grant_id  is_squelched  trust_bonus  \\\n",
       "0          2794110       eth_std      5688          True          0.5   \n",
       "\n",
       "   raw_amount_in_token  amount_in_token  amount_to_gitcoin_in_token token  \\\n",
       "0               0.0047           0.0047                         0.0   ETH   \n",
       "\n",
       "   amount_in_usdt                        created_on  \\\n",
       "0         5.14943  2022-06-23 23:59:59.976253+00:00   \n",
       "\n",
       "                        modified_on  \\\n",
       "0  2022-06-24 00:13:33.028389+00:00   \n",
       "\n",
       "                                      address  \n",
       "0  0xf6027a84d603b136b5b1ce6896000dca1b35d113  "
      ]
     },
     "execution_count": 2,
     "metadata": {},
     "output_type": "execute_result"
    }
   ],
   "source": [
    "gr14_rawdata = load_transactions(PATHS['rawdata'])\n",
    "print(f\"Imported {len(gr14_rawdata)} transactions from GR14\")\n",
    "gr14_rawdata.head(1)"
   ]
  },
  {
   "cell_type": "code",
   "execution_count": 3,
   "id": "ad550e19",
   "metadata": {},
   "outputs": [
    {
     "name": "stdout",
     "output_type": "stream",
     "text": [
      "Unique wallet addresses: 57522\n",
      "Valid wallet addresses: 57513\n"
     ]
    }
   ],
   "source": [
    "wallets = list(sorted(gr14_rawdata['address'].unique()))\n",
    "print(\"Unique wallet addresses:\", len(wallets))\n",
    "\n",
    "whales = gr14_rawdata.groupby('address')['amount_in_usdt'].sum()\n",
    "whales = list(whales[whales > 10000].index)\n",
    "\n",
    "drop_wallets = [w for w in wallets if w in whales]\n",
    "wallets = [w for w in wallets if w not in drop_wallets]\n",
    "print(\"Valid wallet addresses:\", len(wallets))"
   ]
  },
  {
   "cell_type": "markdown",
   "id": "acc45292",
   "metadata": {},
   "source": [
    "# 2/ Quadratic Funder Score\n",
    "\n",
    "Create a \"score\" that rewards going wide over going deep\n",
    "\n",
    "$${\\displaystyle Quadratic Funder Score = (\\sum _{i=1}^{n} \\sqrt {c}_{i} ) }$$"
   ]
  },
  {
   "cell_type": "code",
   "execution_count": 6,
   "id": "954cbd6d",
   "metadata": {},
   "outputs": [
    {
     "data": {
      "text/html": [
       "<div>\n",
       "<style scoped>\n",
       "    .dataframe tbody tr th:only-of-type {\n",
       "        vertical-align: middle;\n",
       "    }\n",
       "\n",
       "    .dataframe tbody tr th {\n",
       "        vertical-align: top;\n",
       "    }\n",
       "\n",
       "    .dataframe thead th {\n",
       "        text-align: right;\n",
       "    }\n",
       "</style>\n",
       "<table border=\"1\" class=\"dataframe\">\n",
       "  <thead>\n",
       "    <tr style=\"text-align: right;\">\n",
       "      <th></th>\n",
       "      <th>count</th>\n",
       "      <th>sum</th>\n",
       "      <th>qfScore</th>\n",
       "    </tr>\n",
       "    <tr>\n",
       "      <th>address</th>\n",
       "      <th></th>\n",
       "      <th></th>\n",
       "      <th></th>\n",
       "    </tr>\n",
       "  </thead>\n",
       "  <tbody>\n",
       "    <tr>\n",
       "      <th>0x43086ff3aeacda9091bef71ffe7a3f22fde5e0e0</th>\n",
       "      <td>13</td>\n",
       "      <td>0.000000</td>\n",
       "      <td>0.000000</td>\n",
       "    </tr>\n",
       "    <tr>\n",
       "      <th>0xdf8fe059b7b9f0fb3165f2dcbd5c410f8b854621</th>\n",
       "      <td>1</td>\n",
       "      <td>0.223607</td>\n",
       "      <td>0.223607</td>\n",
       "    </tr>\n",
       "    <tr>\n",
       "      <th>0x716fdf3096cb742c581098b17e4f1f458b3a5e04</th>\n",
       "      <td>1</td>\n",
       "      <td>0.226924</td>\n",
       "      <td>0.226924</td>\n",
       "    </tr>\n",
       "    <tr>\n",
       "      <th>0x8f72866c7eb66e038b5470d84281f0c2dded74fb</th>\n",
       "      <td>1</td>\n",
       "      <td>0.247523</td>\n",
       "      <td>0.247523</td>\n",
       "    </tr>\n",
       "    <tr>\n",
       "      <th>0x677e563ba5dd39165b982d23ee54aaa3b6d63776</th>\n",
       "      <td>1</td>\n",
       "      <td>0.322675</td>\n",
       "      <td>0.322675</td>\n",
       "    </tr>\n",
       "    <tr>\n",
       "      <th>...</th>\n",
       "      <td>...</td>\n",
       "      <td>...</td>\n",
       "      <td>...</td>\n",
       "    </tr>\n",
       "    <tr>\n",
       "      <th>0x0e3c371c4c8c89e9c5958df74ea9d378a1510f05</th>\n",
       "      <td>119</td>\n",
       "      <td>355.593344</td>\n",
       "      <td>355.593344</td>\n",
       "    </tr>\n",
       "    <tr>\n",
       "      <th>0x5db2419091014463fba8e76727fb35735a5d42fc</th>\n",
       "      <td>75</td>\n",
       "      <td>406.288622</td>\n",
       "      <td>406.288622</td>\n",
       "    </tr>\n",
       "    <tr>\n",
       "      <th>0xa0676edd171904f489d7e76b554e11e0167397c3</th>\n",
       "      <td>52</td>\n",
       "      <td>424.337579</td>\n",
       "      <td>424.337579</td>\n",
       "    </tr>\n",
       "    <tr>\n",
       "      <th>0xe375d84efa8431ef5f489e04652fb645bd0ca30c</th>\n",
       "      <td>43</td>\n",
       "      <td>455.698400</td>\n",
       "      <td>455.698400</td>\n",
       "    </tr>\n",
       "    <tr>\n",
       "      <th>0xc7237d241bad0ccded45320511195fcc2a6c14aa</th>\n",
       "      <td>477</td>\n",
       "      <td>595.442185</td>\n",
       "      <td>595.442185</td>\n",
       "    </tr>\n",
       "  </tbody>\n",
       "</table>\n",
       "<p>57513 rows × 3 columns</p>\n",
       "</div>"
      ],
      "text/plain": [
       "                                            count         sum     qfScore\n",
       "address                                                                  \n",
       "0x43086ff3aeacda9091bef71ffe7a3f22fde5e0e0     13    0.000000    0.000000\n",
       "0xdf8fe059b7b9f0fb3165f2dcbd5c410f8b854621      1    0.223607    0.223607\n",
       "0x716fdf3096cb742c581098b17e4f1f458b3a5e04      1    0.226924    0.226924\n",
       "0x8f72866c7eb66e038b5470d84281f0c2dded74fb      1    0.247523    0.247523\n",
       "0x677e563ba5dd39165b982d23ee54aaa3b6d63776      1    0.322675    0.322675\n",
       "...                                           ...         ...         ...\n",
       "0x0e3c371c4c8c89e9c5958df74ea9d378a1510f05    119  355.593344  355.593344\n",
       "0x5db2419091014463fba8e76727fb35735a5d42fc     75  406.288622  406.288622\n",
       "0xa0676edd171904f489d7e76b554e11e0167397c3     52  424.337579  424.337579\n",
       "0xe375d84efa8431ef5f489e04652fb645bd0ca30c     43  455.698400  455.698400\n",
       "0xc7237d241bad0ccded45320511195fcc2a6c14aa    477  595.442185  595.442185\n",
       "\n",
       "[57513 rows x 3 columns]"
      ]
     },
     "execution_count": 6,
     "metadata": {},
     "output_type": "execute_result"
    }
   ],
   "source": [
    "qf_scores = (gr14_rawdata\n",
    "             .query(\"address not in @drop_wallets\")\n",
    "             .groupby(['address', 'grant_id'])['amount_in_usdt']\n",
    "             .agg(lambda x: sum(x)**.5)\n",
    "             .reset_index()\n",
    "             .groupby('address')['amount_in_usdt']                 \n",
    "             .agg(['count', 'sum'])\n",
    "            )\n",
    "qf_scores['qfScore'] = qf_scores['sum'] # ** 2\n",
    "qf_scores.sort_values(by='qfScore')"
   ]
  },
  {
   "cell_type": "markdown",
   "id": "2f8f1007",
   "metadata": {},
   "source": [
    "# 3/ Merge and export as a clean dataframe"
   ]
  },
  {
   "cell_type": "code",
   "execution_count": 7,
   "id": "1dddb1bd",
   "metadata": {},
   "outputs": [
    {
     "data": {
      "text/html": [
       "<div>\n",
       "<style scoped>\n",
       "    .dataframe tbody tr th:only-of-type {\n",
       "        vertical-align: middle;\n",
       "    }\n",
       "\n",
       "    .dataframe tbody tr th {\n",
       "        vertical-align: top;\n",
       "    }\n",
       "\n",
       "    .dataframe thead th {\n",
       "        text-align: right;\n",
       "    }\n",
       "</style>\n",
       "<table border=\"1\" class=\"dataframe\">\n",
       "  <thead>\n",
       "    <tr style=\"text-align: right;\">\n",
       "      <th></th>\n",
       "      <th>isSquelched</th>\n",
       "      <th>trustscore</th>\n",
       "      <th>numDonations</th>\n",
       "      <th>sumUSD</th>\n",
       "      <th>setTokens</th>\n",
       "      <th>setGrants</th>\n",
       "      <th>numTokens</th>\n",
       "      <th>numGrants</th>\n",
       "    </tr>\n",
       "    <tr>\n",
       "      <th>address</th>\n",
       "      <th></th>\n",
       "      <th></th>\n",
       "      <th></th>\n",
       "      <th></th>\n",
       "      <th></th>\n",
       "      <th></th>\n",
       "      <th></th>\n",
       "      <th></th>\n",
       "    </tr>\n",
       "  </thead>\n",
       "  <tbody>\n",
       "    <tr>\n",
       "      <th>0x00000000000cd56832ce5dfbcbff02e7ec639bc9</th>\n",
       "      <td>0.0</td>\n",
       "      <td>1.15</td>\n",
       "      <td>27</td>\n",
       "      <td>278.750000</td>\n",
       "      <td>{DAI}</td>\n",
       "      <td>{258, 3591, 5511, 12, 4493, 5007, 1297, 5013, ...</td>\n",
       "      <td>1</td>\n",
       "      <td>26</td>\n",
       "    </tr>\n",
       "    <tr>\n",
       "      <th>0x0000000002732779240fe05873611dc4203dfb71</th>\n",
       "      <td>0.0</td>\n",
       "      <td>0.50</td>\n",
       "      <td>9</td>\n",
       "      <td>75.236453</td>\n",
       "      <td>{ETH}</td>\n",
       "      <td>{37, 4268, 12, 5940, 2198, 5688, 4858}</td>\n",
       "      <td>1</td>\n",
       "      <td>7</td>\n",
       "    </tr>\n",
       "  </tbody>\n",
       "</table>\n",
       "</div>"
      ],
      "text/plain": [
       "                                            isSquelched  trustscore  \\\n",
       "address                                                               \n",
       "0x00000000000cd56832ce5dfbcbff02e7ec639bc9          0.0        1.15   \n",
       "0x0000000002732779240fe05873611dc4203dfb71          0.0        0.50   \n",
       "\n",
       "                                            numDonations      sumUSD  \\\n",
       "address                                                                \n",
       "0x00000000000cd56832ce5dfbcbff02e7ec639bc9            27  278.750000   \n",
       "0x0000000002732779240fe05873611dc4203dfb71             9   75.236453   \n",
       "\n",
       "                                           setTokens  \\\n",
       "address                                                \n",
       "0x00000000000cd56832ce5dfbcbff02e7ec639bc9     {DAI}   \n",
       "0x0000000002732779240fe05873611dc4203dfb71     {ETH}   \n",
       "\n",
       "                                                                                    setGrants  \\\n",
       "address                                                                                         \n",
       "0x00000000000cd56832ce5dfbcbff02e7ec639bc9  {258, 3591, 5511, 12, 4493, 5007, 1297, 5013, ...   \n",
       "0x0000000002732779240fe05873611dc4203dfb71             {37, 4268, 12, 5940, 2198, 5688, 4858}   \n",
       "\n",
       "                                            numTokens  numGrants  \n",
       "address                                                           \n",
       "0x00000000000cd56832ce5dfbcbff02e7ec639bc9          1         26  \n",
       "0x0000000002732779240fe05873611dc4203dfb71          1          7  "
      ]
     },
     "execution_count": 7,
     "metadata": {},
     "output_type": "execute_result"
    }
   ],
   "source": [
    "gby = (gr14_rawdata\n",
    "       .query(\"address not in @drop_wallets\")\n",
    "       .groupby('address'))\n",
    "\n",
    "gr14_df = (\n",
    "    pd.concat([\n",
    "        \n",
    "        gby['is_squelched']\n",
    "        .mean()\n",
    "        .rename(\"isSquelched\"),\n",
    "    \n",
    "        gby['trust_bonus']\n",
    "        .mean()\n",
    "        .rename(\"trustscore\"),\n",
    "\n",
    "        gby['grant_id']\n",
    "        .count()\n",
    "        .rename(\"numDonations\"),\n",
    "\n",
    "        gby['amount_in_usdt']\n",
    "        .sum()\n",
    "        .rename(\"sumUSD\"),\n",
    "\n",
    "        gby['token']\n",
    "        .apply(set)\n",
    "        .rename(\"setTokens\"),\n",
    "\n",
    "        gby['grant_id']\n",
    "        .apply(set)\n",
    "        .rename(\"setGrants\"),\n",
    "        \n",
    "    ], axis=1)\n",
    ")\n",
    "\n",
    "gr14_df['numTokens'] = gr14_df['setTokens'].apply(len)\n",
    "gr14_df['numGrants'] = gr14_df['setGrants'].apply(len)\n",
    "\n",
    "gr14_df.head(2)"
   ]
  },
  {
   "cell_type": "code",
   "execution_count": 8,
   "id": "ea9f1deb",
   "metadata": {},
   "outputs": [
    {
     "data": {
      "text/html": [
       "<div>\n",
       "<style scoped>\n",
       "    .dataframe tbody tr th:only-of-type {\n",
       "        vertical-align: middle;\n",
       "    }\n",
       "\n",
       "    .dataframe tbody tr th {\n",
       "        vertical-align: top;\n",
       "    }\n",
       "\n",
       "    .dataframe thead th {\n",
       "        text-align: right;\n",
       "    }\n",
       "</style>\n",
       "<table border=\"1\" class=\"dataframe\">\n",
       "  <thead>\n",
       "    <tr style=\"text-align: right;\">\n",
       "      <th></th>\n",
       "      <th>isSquelched</th>\n",
       "      <th>trustscore</th>\n",
       "      <th>qfScore</th>\n",
       "      <th>numDonations</th>\n",
       "      <th>numGrants</th>\n",
       "      <th>sumUSD</th>\n",
       "      <th>numTokens</th>\n",
       "      <th>setTokens</th>\n",
       "      <th>setGrants</th>\n",
       "    </tr>\n",
       "    <tr>\n",
       "      <th>address</th>\n",
       "      <th></th>\n",
       "      <th></th>\n",
       "      <th></th>\n",
       "      <th></th>\n",
       "      <th></th>\n",
       "      <th></th>\n",
       "      <th></th>\n",
       "      <th></th>\n",
       "      <th></th>\n",
       "    </tr>\n",
       "  </thead>\n",
       "  <tbody>\n",
       "    <tr>\n",
       "      <th>0xc4670b15b4a837d7eb6cd7130fbc4612c535638f</th>\n",
       "      <td>0.0</td>\n",
       "      <td>0.50</td>\n",
       "      <td>185.654971</td>\n",
       "      <td>10</td>\n",
       "      <td>6</td>\n",
       "      <td>8223.092606</td>\n",
       "      <td>2</td>\n",
       "      <td>{ETH, WETH}</td>\n",
       "      <td>{5090, 12, 5007, 3994, 5884, 6042}</td>\n",
       "    </tr>\n",
       "    <tr>\n",
       "      <th>0xaade48a14c24bc8e190ff994a560eaeead209c78</th>\n",
       "      <td>0.0</td>\n",
       "      <td>1.45</td>\n",
       "      <td>272.982213</td>\n",
       "      <td>9</td>\n",
       "      <td>9</td>\n",
       "      <td>8400.000000</td>\n",
       "      <td>1</td>\n",
       "      <td>{DAI}</td>\n",
       "      <td>{4832, 258, 12, 13, 5613, 5039, 6128, 24, 5468}</td>\n",
       "    </tr>\n",
       "    <tr>\n",
       "      <th>0x6b83270726342e02a11e755e8cc35275712122ec</th>\n",
       "      <td>0.0</td>\n",
       "      <td>1.50</td>\n",
       "      <td>100.000000</td>\n",
       "      <td>1</td>\n",
       "      <td>1</td>\n",
       "      <td>10000.000000</td>\n",
       "      <td>1</td>\n",
       "      <td>{DAI}</td>\n",
       "      <td>{4493}</td>\n",
       "    </tr>\n",
       "    <tr>\n",
       "      <th>0x2ac67c73600439fb0b11d27dc3ccaf6a7bb6bac2</th>\n",
       "      <td>1.0</td>\n",
       "      <td>0.50</td>\n",
       "      <td>100.000000</td>\n",
       "      <td>2</td>\n",
       "      <td>1</td>\n",
       "      <td>10000.000000</td>\n",
       "      <td>1</td>\n",
       "      <td>{USDC}</td>\n",
       "      <td>{6163}</td>\n",
       "    </tr>\n",
       "  </tbody>\n",
       "</table>\n",
       "</div>"
      ],
      "text/plain": [
       "                                            isSquelched  trustscore  \\\n",
       "address                                                               \n",
       "0xc4670b15b4a837d7eb6cd7130fbc4612c535638f          0.0        0.50   \n",
       "0xaade48a14c24bc8e190ff994a560eaeead209c78          0.0        1.45   \n",
       "0x6b83270726342e02a11e755e8cc35275712122ec          0.0        1.50   \n",
       "0x2ac67c73600439fb0b11d27dc3ccaf6a7bb6bac2          1.0        0.50   \n",
       "\n",
       "                                               qfScore  numDonations  \\\n",
       "address                                                                \n",
       "0xc4670b15b4a837d7eb6cd7130fbc4612c535638f  185.654971            10   \n",
       "0xaade48a14c24bc8e190ff994a560eaeead209c78  272.982213             9   \n",
       "0x6b83270726342e02a11e755e8cc35275712122ec  100.000000             1   \n",
       "0x2ac67c73600439fb0b11d27dc3ccaf6a7bb6bac2  100.000000             2   \n",
       "\n",
       "                                            numGrants        sumUSD  \\\n",
       "address                                                               \n",
       "0xc4670b15b4a837d7eb6cd7130fbc4612c535638f          6   8223.092606   \n",
       "0xaade48a14c24bc8e190ff994a560eaeead209c78          9   8400.000000   \n",
       "0x6b83270726342e02a11e755e8cc35275712122ec          1  10000.000000   \n",
       "0x2ac67c73600439fb0b11d27dc3ccaf6a7bb6bac2          1  10000.000000   \n",
       "\n",
       "                                            numTokens    setTokens  \\\n",
       "address                                                              \n",
       "0xc4670b15b4a837d7eb6cd7130fbc4612c535638f          2  {ETH, WETH}   \n",
       "0xaade48a14c24bc8e190ff994a560eaeead209c78          1        {DAI}   \n",
       "0x6b83270726342e02a11e755e8cc35275712122ec          1        {DAI}   \n",
       "0x2ac67c73600439fb0b11d27dc3ccaf6a7bb6bac2          1       {USDC}   \n",
       "\n",
       "                                                                                  setGrants  \n",
       "address                                                                                      \n",
       "0xc4670b15b4a837d7eb6cd7130fbc4612c535638f               {5090, 12, 5007, 3994, 5884, 6042}  \n",
       "0xaade48a14c24bc8e190ff994a560eaeead209c78  {4832, 258, 12, 13, 5613, 5039, 6128, 24, 5468}  \n",
       "0x6b83270726342e02a11e755e8cc35275712122ec                                           {4493}  \n",
       "0x2ac67c73600439fb0b11d27dc3ccaf6a7bb6bac2                                           {6163}  "
      ]
     },
     "execution_count": 8,
     "metadata": {},
     "output_type": "execute_result"
    }
   ],
   "source": [
    "cols = ['isSquelched', 'trustscore', 'qfScore', 'numDonations', 'numGrants', \n",
    "        'sumUSD', 'numTokens', 'setTokens', 'setGrants']\n",
    "\n",
    "clean_df = gr14_df.join(qf_scores['qfScore'])[cols]\n",
    "clean_df.sort_values(by='sumUSD').tail(4)"
   ]
  },
  {
   "cell_type": "code",
   "execution_count": 9,
   "id": "66ca6084",
   "metadata": {},
   "outputs": [
    {
     "data": {
      "text/plain": [
       "57513"
      ]
     },
     "execution_count": 9,
     "metadata": {},
     "output_type": "execute_result"
    }
   ],
   "source": [
    "clean_df.to_csv(PATHS['cleancsv'])\n",
    "len(clean_df)"
   ]
  },
  {
   "attachments": {
    "image.png": {
     "image/png": "[encoded data removed]"
    }
   },
   "cell_type": "markdown",
   "id": "1010bb5a",
   "metadata": {},
   "source": [
    "![image.png](attachment:image.png)"
   ]
  },
  {
   "cell_type": "markdown",
   "id": "73feb92b",
   "metadata": {},
   "source": [
    "## WAIT -- DON'T RUN THE NEXT SECTION UNLESS YOU WANT TO QUERY THE APIs!"
   ]
  },
  {
   "cell_type": "markdown",
   "id": "e9fcfb31",
   "metadata": {},
   "source": [
    "# 4/ Run subgraph queries for selected wallets\n",
    "\n",
    "These queries are configured in the `utils` directory.\n",
    "\n",
    "Some of these queries can take a long time to execute. Test them out by only using a small subset of wallets.\n",
    "\n",
    "Each query will output a json file in `private_data/graphs` directory"
   ]
  },
  {
   "cell_type": "code",
   "execution_count": 13,
   "id": "c5879179",
   "metadata": {},
   "outputs": [],
   "source": [
    "# wallets = wallets[:500] # take a small subset of wallets for testing"
   ]
  },
  {
   "cell_type": "markdown",
   "id": "d8e060cf",
   "metadata": {},
   "source": [
    "## Lens Protocol\n",
    "Determines if wallet has a profile minted on the Lens protocol"
   ]
  },
  {
   "cell_type": "code",
   "execution_count": 12,
   "id": "a0ed79b9",
   "metadata": {},
   "outputs": [],
   "source": [
    "# test = query_lens(wallets[0:10])\n",
    "\n",
    "j = execute_subgraph_query(\n",
    "    api_function=query_lens, \n",
    "    list_of_wallets=wallets, \n",
    "    num_wallets_per_call=50,\n",
    "    json_filepath=PATHS['graphs']['lens'],\n",
    "    append_to_existing_file=False,\n",
    "    return_json=True\n",
    ")\n",
    "print(\"Records:\")\n",
    "len(j['data'])"
   ]
  },
  {
   "cell_type": "markdown",
   "id": "3b1d25f9",
   "metadata": {},
   "source": [
    "## POAP\n",
    "Gathers basic info on how many POAPs a wallet has claimed (as well as up to 1000 event IDs)."
   ]
  },
  {
   "cell_type": "code",
   "execution_count": 14,
   "id": "32351402",
   "metadata": {},
   "outputs": [],
   "source": [
    "# test = query_poaps_xdai(wallets[0:10])\n",
    "\n",
    "j = execute_subgraph_query(\n",
    "    api_function=query_poaps_xdai, \n",
    "    list_of_wallets=wallets, \n",
    "    num_wallets_per_call=100,\n",
    "    json_filepath=PATHS['graphs']['poaps'],\n",
    "    append_to_existing_file=False,\n",
    "    return_json=True\n",
    ")\n",
    "print(\"Records:\")\n",
    "len(j['data'])"
   ]
  },
  {
   "cell_type": "markdown",
   "id": "dbc3440a",
   "metadata": {},
   "source": [
    "## Snapshot\n",
    "Pulls relevant voting and DAO affiliations from Snapshot"
   ]
  },
  {
   "cell_type": "code",
   "execution_count": 15,
   "id": "e55e1b5f",
   "metadata": {},
   "outputs": [],
   "source": [
    "# test = query_snapshot(wallets[0:10])\n",
    "\n",
    "j = execute_subgraph_query(\n",
    "    api_function=query_snapshot, \n",
    "    list_of_wallets=wallets, \n",
    "    num_wallets_per_call=100,\n",
    "    json_filepath=PATHS['graphs']['snapshot'],\n",
    "    append_to_existing_file=False,\n",
    "    return_json=True\n",
    ")\n",
    "print(\"Records:\")\n",
    "len(j['data'])"
   ]
  },
  {
   "cell_type": "markdown",
   "id": "90169b7e",
   "metadata": {},
   "source": [
    "## Zora / NFTs\n",
    "Pulls relevant NFT data (on ETH only).\n",
    "\n",
    "API has limit of 500 results per page, so this requires some creative batching to get (most) of the NFTs."
   ]
  },
  {
   "cell_type": "code",
   "execution_count": 16,
   "id": "2d3f9091",
   "metadata": {},
   "outputs": [],
   "source": [
    "j = query_zora(\n",
    "    wallets, \n",
    "    num_per_call=20,\n",
    "    nfts_path=PATHS['graphs']['nfts'], \n",
    "    return_json=True\n",
    ")\n",
    "print(\"Records:\")\n",
    "len(j['data'])"
   ]
  },
  {
   "cell_type": "markdown",
   "id": "1fa02665",
   "metadata": {},
   "source": [
    "## Proof of Humanity\n",
    "\n",
    "Check the number of profiles [here](https://app.proofofhumanity.id/) and round up to the nearest 1000"
   ]
  },
  {
   "cell_type": "code",
   "execution_count": 17,
   "id": "77fbc2a9",
   "metadata": {},
   "outputs": [],
   "source": [
    "num_profiles = 17000 \n",
    "\n",
    "poh_addresses = get_raw_set_of_addresses(num_profiles)\n",
    "\n",
    "with open(PATHS['graphs']['poh'], 'w') as outfile:\n",
    "    json.dump(list(poh_addresses), outfile, indent=2)\n",
    "print(\"Records:\")\n",
    "len(poh_addresses)"
   ]
  },
  {
   "cell_type": "code",
   "execution_count": null,
   "id": "fb0113de",
   "metadata": {},
   "outputs": [],
   "source": []
  },
  {
   "cell_type": "markdown",
   "id": "888bcdc7",
   "metadata": {},
   "source": [
    "# / Scrap\n",
    "\n",
    "Another approach, using a third party GraphQL client"
   ]
  },
  {
   "cell_type": "code",
   "execution_count": 18,
   "id": "2f56cc72",
   "metadata": {},
   "outputs": [],
   "source": [
    "from gql import gql, Client\n",
    "from gql.transport.requests import RequestsHTTPTransport\n",
    "\n",
    "sample_transport=RequestsHTTPTransport(\n",
    "    url='https://api.thegraph.com/subgraphs/name/poap-xyz/poap-xdai',\n",
    "    verify=True,\n",
    "    retries=3,\n",
    ")\n",
    "client = Client(\n",
    "    transport=sample_transport\n",
    ")\n",
    "query = gql('''\n",
    "query poap {\n",
    "  accounts(\n",
    "    where: {\n",
    "      id_in: [\"0xffe296bbbc86dfac056b42c6180d9f8b4cb412aa\"]\n",
    "    }\n",
    "  ) {\n",
    "    id\n",
    "    tokensOwned\n",
    "    tokens (first: 1000) {\n",
    "      event {\n",
    "        id\n",
    "      }\n",
    "    }\n",
    "  }\n",
    "}\n",
    "''')\n",
    "response = client.execute(query)\n",
    "print(response)"
   ]
  }
 ],
 "metadata": {
  "kernelspec": {
   "display_name": "Python 3 (ipykernel)",
   "language": "python",
   "name": "python3"
  },
  "language_info": {
   "codemirror_mode": {
    "name": "ipython",
    "version": 3
   },
   "file_extension": ".py",
   "mimetype": "text/x-python",
   "name": "python",
   "nbconvert_exporter": "python",
   "pygments_lexer": "ipython3",
   "version": "3.9.7"
  }
 },
 "nbformat": 4,
 "nbformat_minor": 5
}
