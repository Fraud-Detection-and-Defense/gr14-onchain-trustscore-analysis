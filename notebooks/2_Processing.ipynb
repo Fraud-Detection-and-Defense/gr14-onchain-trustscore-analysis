{
 "cells": [
  {
   "cell_type": "markdown",
   "id": "60d75317",
   "metadata": {},
   "source": [
    "## Gitcoin Grants #14 Trust & DeSoc Scores (🤖,💚)\n",
    "\n",
    "# Part 2: Processing\n",
    "\n",
    "\n",
    "This notebook processes data from Gitcoin Grants and on-chain sources."
   ]
  },
  {
   "cell_type": "markdown",
   "id": "fa52af2a",
   "metadata": {},
   "source": [
    "### Dependencies"
   ]
  },
  {
   "cell_type": "code",
   "execution_count": null,
   "id": "424af813",
   "metadata": {},
   "outputs": [],
   "source": [
    "from collections import Counter\n",
    "import json\n",
    "import matplotlib.pyplot as plt\n",
    "import pandas as pd\n",
    "import plotly.express as px\n",
    "import seaborn as sns\n",
    "from sklearn.preprocessing import MultiLabelBinarizer\n",
    "\n",
    "from settings import PATHS"
   ]
  },
  {
   "cell_type": "markdown",
   "id": "c2676948",
   "metadata": {},
   "source": [
    "# 1/ Ingest GR 14 data\n",
    "\n",
    "This requires access to a private dataset from Gitcoin and on-chain queries, which were extracted in Part 1. \n",
    "\n",
    "Now we load the \"clean\" dataset for additional processing."
   ]
  },
  {
   "cell_type": "code",
   "execution_count": null,
   "id": "84abe735",
   "metadata": {},
   "outputs": [],
   "source": [
    "gr14_df = pd.read_csv(PATHS['cleancsv'], index_col='address')\n",
    "gr14_df.head(2)"
   ]
  },
  {
   "cell_type": "code",
   "execution_count": null,
   "id": "68cc229e",
   "metadata": {},
   "outputs": [],
   "source": [
    "wallets = list(gr14_df.index)\n",
    "len(wallets)"
   ]
  },
  {
   "cell_type": "markdown",
   "id": "149e07e8",
   "metadata": {},
   "source": [
    "## Quick analysis of Passport trust scores vs other indicators"
   ]
  },
  {
   "cell_type": "code",
   "execution_count": null,
   "id": "245fb074",
   "metadata": {},
   "outputs": [],
   "source": [
    "# create 4 bins for trust groups\n",
    "trust_groups = pd.cut(gr14_df['trustscore'], 4).astype(str)\n",
    "gr14_df['binTrustscore'] = trust_groups\n",
    "(gr14_df\n",
    "     .groupby('binTrustscore')\n",
    "     [['isSquelched', 'qfScore', 'sumUSD', 'numGrants', 'numDonations']]\n",
    "     .mean()\n",
    "     .join(\n",
    "         trust_groups\n",
    "         .value_counts()\n",
    "         .rename('countAddresses')\n",
    "     )\n",
    ").T"
   ]
  },
  {
   "cell_type": "markdown",
   "id": "e9fcfb31",
   "metadata": {},
   "source": [
    "# 2/ Process on-chain activity\n",
    "\n",
    "Create some simple DeSoc metrics for each on-chain data source.\n",
    "\n",
    "Reminder of where the data come from:\n",
    "\n",
    "- POAPs (xDAI only) // [api](https://api.thegraph.com/subgraphs/name/poap-xyz/poap-xdai)\n",
    "- Snapshot votes (all EVM chains) // [api](https://hub.snapshot.org/graphql/)\n",
    "- NFT ownership (ETH Mainnet only) // [api](https://api.zora.co/graphql)\n",
    "- Lens protocol // [api](https://api.lens.dev/)\n",
    "- Proof of Humanity // [api](https://api.poh.dev)"
   ]
  },
  {
   "cell_type": "markdown",
   "id": "d8e060cf",
   "metadata": {},
   "source": [
    "## Lens Protocol"
   ]
  },
  {
   "cell_type": "code",
   "execution_count": null,
   "id": "7a8928d6",
   "metadata": {},
   "outputs": [],
   "source": [
    "with open(PATHS['graphs']['lens'], 'r') as infile:\n",
    "    json_data = json.load(infile)\n",
    "lens_df = pd.DataFrame(json_data['data'])\n",
    "\n",
    "lens_df['ownedBy'] = lens_df['ownedBy'].str.lower()\n",
    "lens_df['numLens'] = 1\n",
    "lens_df['numLensFollowers'] = lens_df['stats'].apply(lambda x: x['totalFollowers'])\n",
    "lens_df['numLensFollowing'] = lens_df['stats'].apply(lambda x: x['totalFollowing'])\n",
    "lens_df = (lens_df\n",
    "           .drop(columns=['stats', 'id', 'name'])\n",
    "           .groupby('ownedBy').sum())\n",
    "lens_df.head()"
   ]
  },
  {
   "cell_type": "code",
   "execution_count": null,
   "id": "c1a44fc7",
   "metadata": {},
   "outputs": [],
   "source": [
    "print(\"Num wallets with Lens profile:\", len(lens_df))\n",
    "print(\"Share of wallets on Lens:\", len(lens_df) / len(wallets))"
   ]
  },
  {
   "cell_type": "code",
   "execution_count": null,
   "id": "1cb826f5",
   "metadata": {},
   "outputs": [],
   "source": [
    "# scatter plot of Lens Followings vs Followers\n",
    "\n",
    "fig = px.scatter(\n",
    "    data_frame=lens_df,\n",
    "    x='numLensFollowers',\n",
    "    y='numLensFollowing',\n",
    "    size='numLens',\n",
    "    opacity=.5,\n",
    ")\n",
    "fig.update_xaxes(range=(0,lens_df['numLensFollowers'].quantile(.99)),linecolor='black',)\n",
    "fig.update_yaxes(range=(0,lens_df['numLensFollowing'].quantile(.99)), linecolor='black',)\n",
    "fig.update_layout(plot_bgcolor='white')\n",
    "fig.update_traces(marker_line_width=0)\n",
    "fig"
   ]
  },
  {
   "cell_type": "markdown",
   "id": "3b1d25f9",
   "metadata": {},
   "source": [
    "## POAP\n",
    "\n",
    "View POAP events by changing the number at the end of the URL\n",
    "\n",
    "https://poap.gallery/event/12345"
   ]
  },
  {
   "cell_type": "code",
   "execution_count": null,
   "id": "0f7b22a9",
   "metadata": {},
   "outputs": [],
   "source": [
    "with open(PATHS['graphs']['poaps'], 'r') as infile:\n",
    "    json_data = json.load(infile)\n",
    "poap_df = pd.DataFrame(json_data['data'])\n",
    "\n",
    "poap_df['numPOAPs'] = poap_df['tokensOwned'].astype(int)\n",
    "poap_df['setPOAPs'] = poap_df['tokens'].apply(\n",
    "    lambda events: \n",
    "    set([int(e['event']['id']) for e in events]) \n",
    "    if len(events) else []\n",
    ")\n",
    "poap_df.drop(columns=['tokensOwned', 'tokens'], inplace=True)\n",
    "poap_df.set_index('id', inplace=True)\n",
    "poap_df.head(2)"
   ]
  },
  {
   "cell_type": "code",
   "execution_count": null,
   "id": "6882e7ce",
   "metadata": {},
   "outputs": [],
   "source": [
    "print(\"Total POAPs collected:\", poap_df['numPOAPs'].sum())\n",
    "print(\"Num wallets with POAPs:\", len(poap_df[poap_df['numPOAPs']>0]))\n",
    "print(\"Share of wallets with POAPs\", len(poap_df[poap_df['numPOAPs']>0]) / len(wallets))"
   ]
  },
  {
   "cell_type": "code",
   "execution_count": null,
   "id": "6d38afff",
   "metadata": {},
   "outputs": [],
   "source": [
    "poap_df['numPOAPs'].describe()"
   ]
  },
  {
   "cell_type": "code",
   "execution_count": null,
   "id": "3bc4deed",
   "metadata": {},
   "outputs": [],
   "source": [
    "# Histogram of wallets with more than 100 POAPs\n",
    "\n",
    "fig = px.histogram(\n",
    "    data_frame=poap_df[poap_df['numPOAPs']>100], \n",
    "    x='numPOAPs'\n",
    ")\n",
    "fig"
   ]
  },
  {
   "cell_type": "markdown",
   "id": "c107c06f",
   "metadata": {},
   "source": [
    "### Get a matrix of POAPs by addresses"
   ]
  },
  {
   "cell_type": "code",
   "execution_count": null,
   "id": "3999f74b",
   "metadata": {},
   "outputs": [],
   "source": [
    "mlb = MultiLabelBinarizer()\n",
    "poap_grid = pd.DataFrame(\n",
    "    mlb.fit_transform(poap_df['setPOAPs']),\n",
    "    columns=mlb.classes_, \n",
    "    index=poap_df.index\n",
    ")\n",
    "poap_grid.columns = [str(c) for c in poap_grid.columns]\n",
    "poap_grid.shape"
   ]
  },
  {
   "cell_type": "code",
   "execution_count": null,
   "id": "9614df6a",
   "metadata": {},
   "outputs": [],
   "source": [
    "# visualize the most collected POAPs among GR14 funders\n",
    "\n",
    "poap_counts = poap_grid.sum().sort_values()\n",
    "most_popular_poaps = poap_counts.tail(20)\n",
    "fig = px.bar(most_popular_poaps, orientation='h')\n",
    "fig.update_layout(\n",
    "    plot_bgcolor='#FAFAFA',\n",
    "    paper_bgcolor='#FAFAFA',\n",
    "    font_family='Arial',\n",
    "    font_size=18,\n",
    "    showlegend=False,\n",
    "    width=1200,\n",
    "    height=600,\n",
    "    yaxis=dict(\n",
    "        linecolor='black',\n",
    "        showgrid=False,\n",
    "        zeroline=False,\n",
    "    ),\n",
    "    xaxis=dict(\n",
    "        linecolor='black',\n",
    "        showgrid=False,\n",
    "        zeroline=False,\n",
    "    )\n",
    ")\n",
    "fig.update_xaxes(title='# GR14 wallets')\n",
    "fig.update_yaxes(title='POAP event #')\n",
    "fig"
   ]
  },
  {
   "cell_type": "code",
   "execution_count": null,
   "id": "2b1b2800",
   "metadata": {},
   "outputs": [],
   "source": [
    "# have a look for potential POAP farmers\n",
    "\n",
    "poap_farmers = poap_grid[most_popular_poaps.index].sum(axis=1).sort_values()\n",
    "poap_farmers = poap_farmers[poap_farmers > 10].index\n",
    "\n",
    "print(f\"{len(poap_farmers)} wallets have more than 10 of the top 25 POAPs\")\n",
    "\n",
    "fig = px.density_heatmap(\n",
    "    data_frame=(poap_grid\n",
    "                .loc[poap_farmers, most_popular_poaps.index]\n",
    "                .reset_index()\n",
    "                .melt(id_vars='id', var_name='event')),\n",
    "    x='event',\n",
    "    y='id',\n",
    "    z='value',\n",
    "    color_continuous_scale='Greens'\n",
    ")\n",
    "fig.update_layout(coloraxis_showscale=False)\n",
    "fig.update_yaxes(showticklabels=False, title='wallet addresses')\n",
    "fig"
   ]
  },
  {
   "cell_type": "markdown",
   "id": "16d8fa60",
   "metadata": {},
   "source": [
    "### Simple POAP event correlation analysis"
   ]
  },
  {
   "cell_type": "code",
   "execution_count": null,
   "id": "3819cdef",
   "metadata": {},
   "outputs": [],
   "source": [
    "c = (poap_grid\n",
    "     [poap_counts[poap_counts>800].index]\n",
    "     .corr())\n",
    "s = c.unstack()\n",
    "s = s[(s<1) & (s>.5)]\n",
    "poap_watchlist = set([e for pair in s.index for e in pair])\n",
    "\n",
    "fig,ax = plt.subplots(figsize=(15,10), dpi=144)\n",
    "sns.heatmap(\n",
    "    poap_grid[poap_watchlist].corr(),\n",
    "    cmap='Purples',\n",
    "    annot=True,\n",
    "    fmt=\".1f\"\n",
    ")"
   ]
  },
  {
   "cell_type": "markdown",
   "id": "dbc3440a",
   "metadata": {},
   "source": [
    "## Snapshot"
   ]
  },
  {
   "cell_type": "code",
   "execution_count": null,
   "id": "8601129e",
   "metadata": {},
   "outputs": [],
   "source": [
    "with open(PATHS['graphs']['snapshot'], 'r') as infile:\n",
    "    json_data = json.load(infile)\n",
    "snapshot_df = pd.DataFrame(json_data['data'])\n",
    "\n",
    "snapshot_df['proposal'] = snapshot_df['proposal'].apply(lambda x: x['id'] if isinstance(x, dict) else None)\n",
    "snapshot_df['space'] = snapshot_df['space'].apply(lambda x: x['id'])\n",
    "snapshot_df['voter'] = snapshot_df['voter'].str.lower()\n",
    "\n",
    "print(\"Number of votes recorded:\", len(snapshot_df))\n",
    "snapshot_df.head(2)"
   ]
  },
  {
   "cell_type": "code",
   "execution_count": null,
   "id": "f93b9f61",
   "metadata": {},
   "outputs": [],
   "source": [
    "voters_df = (\n",
    "    pd.concat([\n",
    "        snapshot_df\n",
    "        .groupby('voter')['space']\n",
    "        .apply(set)\n",
    "        .rename(\"setSpaces\"),\n",
    "        snapshot_df\n",
    "        .groupby('voter')['id']\n",
    "        .count()\n",
    "        .rename(\"numVotes\")\n",
    "    ], axis=1)\n",
    ")\n",
    "voters_df['numSpaces'] = voters_df['setSpaces'].apply(len)\n",
    "voters_df.head(2)"
   ]
  },
  {
   "cell_type": "code",
   "execution_count": null,
   "id": "7181db26",
   "metadata": {},
   "outputs": [],
   "source": [
    "print(\"Num walets that vote on Snapshot\", len(voters_df))\n",
    "print(\"Share of wallets that vote on Snapshot\", len(voters_df) / len(wallets))"
   ]
  },
  {
   "cell_type": "code",
   "execution_count": null,
   "id": "12b932d0",
   "metadata": {},
   "outputs": [],
   "source": [
    "space_counts = (snapshot_df\n",
    "                 .groupby('voter')\n",
    "                 ['space']\n",
    "                 .agg(lambda x: Counter(x))\n",
    "                 .rename('spaceCounts'))\n",
    "voter_df = voters_df.join(space_counts)\n",
    "voter_df.head(2)"
   ]
  },
  {
   "cell_type": "markdown",
   "id": "209db8d6",
   "metadata": {},
   "source": [
    "### Rankings by DAO / affiliation"
   ]
  },
  {
   "cell_type": "code",
   "execution_count": null,
   "id": "9c328722",
   "metadata": {},
   "outputs": [],
   "source": [
    "ranked_spaces = (snapshot_df\n",
    "                 .groupby('space')['voter']\n",
    "                 .agg(lambda x: len(x.unique()))\n",
    "                 .sort_values())\n",
    "spaces = sorted(ranked_spaces.index)\n",
    "ranked_spaces.tail()"
   ]
  },
  {
   "cell_type": "code",
   "execution_count": null,
   "id": "de9b015d",
   "metadata": {},
   "outputs": [],
   "source": [
    "# visualize the most popular DAO spaces\n",
    "\n",
    "fig = px.bar(ranked_spaces.tail(25))\n",
    "fig.update_layout(showlegend = False)\n",
    "fig.update_xaxes(title='DAO space')\n",
    "fig.update_yaxes(title='# GR14 wallets')\n",
    "fig"
   ]
  },
  {
   "cell_type": "code",
   "execution_count": null,
   "id": "06da01e3",
   "metadata": {},
   "outputs": [],
   "source": [
    "# visualize the distribution of the # of proposals voted on by DAO members\n",
    "\n",
    "snapshot_votes_by_space = snapshot_df.groupby('space')['proposal'].agg(lambda x: len(x.unique()))\n",
    "fig = px.histogram(snapshot_votes_by_space[snapshot_votes_by_space<10])\n",
    "fig.update_layout(showlegend = False)\n",
    "fig.update_xaxes(title='# proposals voted on in the DAO')\n",
    "fig.update_yaxes(title='# of DAOs')\n",
    "fig"
   ]
  },
  {
   "cell_type": "code",
   "execution_count": null,
   "id": "c9cf2acf",
   "metadata": {},
   "outputs": [],
   "source": [
    "mlb = MultiLabelBinarizer()\n",
    "space_grid = pd.DataFrame(\n",
    "    mlb.fit_transform(voters_df['setSpaces']),\n",
    "    columns=mlb.classes_, \n",
    "    index=voters_df.index\n",
    ")\n",
    "space_grid.shape"
   ]
  },
  {
   "cell_type": "code",
   "execution_count": null,
   "id": "54d0555f",
   "metadata": {},
   "outputs": [],
   "source": [
    "most_popular_spaces = space_grid.sum().sort_values().tail(25)\n",
    "daoers = space_grid[most_popular_spaces.index].sum(axis=1).sort_values()\n",
    "daoers = daoers[daoers > 5].index\n",
    "\n",
    "print(f\"{len(daoers)} wallets have voted in more than 5 of the top 25 spaces\")\n",
    "\n",
    "fig = px.density_heatmap(\n",
    "    data_frame=(space_grid\n",
    "                .loc[daoers, reversed(most_popular_spaces.index)]\n",
    "                .reset_index()\n",
    "                .melt(id_vars='voter', var_name='space')),\n",
    "    x='space',\n",
    "    y='voter',\n",
    "    z='value',\n",
    "    color_continuous_scale='Greens'\n",
    ")\n",
    "fig.update_layout(coloraxis_showscale=False)\n",
    "fig.update_yaxes(showticklabels=False)\n",
    "fig"
   ]
  },
  {
   "cell_type": "code",
   "execution_count": null,
   "id": "915988e4",
   "metadata": {},
   "outputs": [],
   "source": [
    "# look for correlations in DAO affiliations\n",
    "\n",
    "fig,ax = plt.subplots(figsize=(15,10), dpi=144)\n",
    "sns.heatmap(\n",
    "    space_grid.loc[daoers, most_popular_spaces.index].corr(),\n",
    "    cmap='Purples',\n",
    "    annot=True,\n",
    "    fmt=\".1f\"\n",
    ")"
   ]
  },
  {
   "cell_type": "markdown",
   "id": "90169b7e",
   "metadata": {},
   "source": [
    "## Zora / NFTs\n",
    "Pulls relevant NFT data (on ETH only). API has limit of 500 results per page, so this may not be an exhaustive list for heavy NFT collectors."
   ]
  },
  {
   "cell_type": "code",
   "execution_count": null,
   "id": "2d3f9091",
   "metadata": {},
   "outputs": [],
   "source": [
    "from utils.zora import POPULAR_NFTS"
   ]
  },
  {
   "cell_type": "code",
   "execution_count": null,
   "id": "557a7c48",
   "metadata": {},
   "outputs": [],
   "source": [
    "with open(PATHS['graphs']['nfts'], 'r') as infile:\n",
    "    json_data = json.load(infile)\n",
    "zora_df = pd.DataFrame([i['token'] for i in json_data['data']])\n",
    "print(\"Total NFTs in dataset\", len(zora_df))\n",
    "zora_df.head(2)"
   ]
  },
  {
   "cell_type": "code",
   "execution_count": null,
   "id": "2750e230",
   "metadata": {},
   "outputs": [],
   "source": [
    "nft_df = (\n",
    "    pd.concat([\n",
    "        \n",
    "        zora_df\n",
    "        .groupby('owner')['collectionAddress']\n",
    "        .apply(set)\n",
    "        .rename(\"setCollections\"),\n",
    "        \n",
    "        zora_df\n",
    "        .groupby('owner')['collectionAddress']\n",
    "        .agg(lambda x: len(x.unique()))\n",
    "        .rename(\"numCollections\"),\n",
    "    \n",
    "        zora_df\n",
    "        .groupby('owner')['collectionAddress']\n",
    "        .count()\n",
    "        .rename(\"numNFTs\")\n",
    "\n",
    "    ], axis=1)\n",
    ")\n",
    "nft_df.head(2)"
   ]
  },
  {
   "cell_type": "markdown",
   "id": "0097736e",
   "metadata": {},
   "source": [
    "### Some analysis on NFT patterns"
   ]
  },
  {
   "cell_type": "code",
   "execution_count": null,
   "id": "06b8852c",
   "metadata": {},
   "outputs": [],
   "source": [
    "print(\"Num wallets with NFTs\", len(nft_df))\n",
    "print(\"Share of wallets with NFTs\", len(nft_df[nft_df['numNFTs']>0]) / len(wallets))"
   ]
  },
  {
   "cell_type": "code",
   "execution_count": null,
   "id": "c207ec5e",
   "metadata": {},
   "outputs": [],
   "source": [
    "# histogram of NFT counts\n",
    "\n",
    "fig = px.histogram(\n",
    "    data_frame=nft_df,\n",
    "    x='numNFTs',\n",
    ")\n",
    "fig"
   ]
  },
  {
   "cell_type": "markdown",
   "id": "34a9186b",
   "metadata": {},
   "source": [
    "### Rankings by NFT collection"
   ]
  },
  {
   "cell_type": "code",
   "execution_count": null,
   "id": "2f1d872c",
   "metadata": {},
   "outputs": [],
   "source": [
    "zora_df['collectionName'] = zora_df['collectionAddress'].replace(POPULAR_NFTS)\n",
    "nft_df['setCollections'] = nft_df['setCollections'].apply(\n",
    "    lambda x: set([POPULAR_NFTS.get(c,c) for c in x])\n",
    ")"
   ]
  },
  {
   "cell_type": "code",
   "execution_count": null,
   "id": "8ae242af",
   "metadata": {},
   "outputs": [],
   "source": [
    "collection_counter = (zora_df\n",
    "                     .groupby('owner')\n",
    "                     ['collectionName']\n",
    "                     .agg(lambda x: Counter(x))\n",
    "                     .rename('countNFTs'))\n",
    "nft_df = nft_df.join(collection_counter) # todo: refactor\n",
    "nft_df.head(2)"
   ]
  },
  {
   "cell_type": "code",
   "execution_count": null,
   "id": "285bba0e",
   "metadata": {},
   "outputs": [],
   "source": [
    "# see which collections are most popular\n",
    "\n",
    "ranked_collections = (zora_df\n",
    "                      .groupby('collectionName')['owner']\n",
    "                      .agg(lambda x: len(x.unique()))\n",
    "                      .sort_values())\n",
    "collections = sorted(ranked_collections.index)\n",
    "ranked_collections.tail(15)"
   ]
  },
  {
   "cell_type": "code",
   "execution_count": null,
   "id": "6df74109",
   "metadata": {},
   "outputs": [],
   "source": [
    "# visualize the most popular NFT collections\n",
    "\n",
    "fig = px.bar(\n",
    "    ranked_collections[POPULAR_NFTS.values()].sort_values(),\n",
    "    orientation='h'\n",
    ")\n",
    "fig.update_layout(showlegend = False)\n",
    "fig.update_xaxes(title='# NFTs')\n",
    "fig.update_yaxes(title='Collection')\n",
    "fig"
   ]
  },
  {
   "cell_type": "code",
   "execution_count": null,
   "id": "a3f3328c",
   "metadata": {},
   "outputs": [],
   "source": [
    "# visualize correlations among different NFT collections\n",
    "\n",
    "nft_grid = (zora_df[zora_df\n",
    "                    .collectionName\n",
    "                    .isin(list(POPULAR_NFTS.values()))\n",
    "                   ]\n",
    "            .groupby(['owner', 'collectionName'])['tokenId']\n",
    "            .count()\n",
    "            .rename('numTokens')\n",
    "            .reset_index())\n",
    "nft_grid['hasToken'] = nft_grid['numTokens'].apply(lambda x: min(1,x))\n",
    "\n",
    "collectors = nft_grid.groupby('owner')['hasToken'].sum()\n",
    "collectors = collectors[collectors>=8].index\n",
    "\n",
    "print(f\"{len(collectors)} wallets have at least one NFT from 8 of the top 15 collections\")\n",
    "\n",
    "fig = px.density_heatmap(\n",
    "    data_frame=nft_grid[nft_grid['owner'].isin(collectors)],\n",
    "    x='collectionName',\n",
    "    y='owner',\n",
    "    z='hasToken',\n",
    "    color_continuous_scale='Greens',\n",
    ")\n",
    "fig.update_layout(coloraxis_showscale=False)\n",
    "fig.update_yaxes(showticklabels=False)\n",
    "fig"
   ]
  },
  {
   "cell_type": "markdown",
   "id": "5ac9379f",
   "metadata": {},
   "source": [
    "## Proof of Humanity"
   ]
  },
  {
   "cell_type": "code",
   "execution_count": null,
   "id": "f96bae74",
   "metadata": {},
   "outputs": [],
   "source": [
    "with open(PATHS['graphs']['poh'], 'r') as infile:\n",
    "    json_data = json.load(infile)\n",
    "poh_wallets = set(json_data).intersection(set(wallets))\n",
    "poh_series = pd.Series([True]*len(poh_wallets), index=poh_wallets, name='hasProofOfHumanity')\n",
    "\n",
    "\n",
    "print(\"Num wallets on PoH\", len(json_data))\n",
    "print(\"Share of wallets that are on PoH\", len(poh_series) / len(wallets))"
   ]
  },
  {
   "cell_type": "markdown",
   "id": "3dab1fd9",
   "metadata": {},
   "source": [
    "# 3/ Consolidate GR14 + onchain data into a single data file"
   ]
  },
  {
   "cell_type": "code",
   "execution_count": null,
   "id": "150cf995",
   "metadata": {},
   "outputs": [],
   "source": [
    "df = (gr14_df\n",
    "      .join(voters_df)\n",
    "      .join(poap_df)\n",
    "      .join(nft_df)\n",
    "      .join(lens_df)\n",
    "      .join(poh_series)\n",
    "     )\n",
    "\n",
    "# fill 0 for numerics with NaN \n",
    "numerics = df.select_dtypes(include=['number']).columns\n",
    "df[numerics] = df[numerics].fillna(0)\n",
    "df['hasProofOfHumanity'].fillna(False, inplace=True)\n",
    "\n",
    "print(\"Total wallets:\", len(df))\n",
    "df.head(3)"
   ]
  },
  {
   "cell_type": "code",
   "execution_count": null,
   "id": "91482e99",
   "metadata": {},
   "outputs": [],
   "source": [
    "# dump into a pickle file\n",
    "df.to_pickle(PATHS['outdata'])"
   ]
  }
 ],
 "metadata": {
  "kernelspec": {
   "display_name": "Python 3 (ipykernel)",
   "language": "python",
   "name": "python3"
  },
  "language_info": {
   "codemirror_mode": {
    "name": "ipython",
    "version": 3
   },
   "file_extension": ".py",
   "mimetype": "text/x-python",
   "name": "python",
   "nbconvert_exporter": "python",
   "pygments_lexer": "ipython3",
   "version": "3.9.7"
  }
 },
 "nbformat": 4,
 "nbformat_minor": 5
}
